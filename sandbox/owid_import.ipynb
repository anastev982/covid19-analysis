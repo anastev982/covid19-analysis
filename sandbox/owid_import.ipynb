{
 "cells": [
  {
   "cell_type": "code",
   "execution_count": 1,
   "id": "3e39a38a",
   "metadata": {},
   "outputs": [
    {
     "name": "stdout",
     "output_type": "stream",
     "text": [
      "Rows in table: 429435\n"
     ]
    }
   ],
   "source": [
    "from google.cloud import bigquery\n",
    "import pandas as pd\n",
    "\n",
    "PROJECT_ID = \"charged-city-421819\"\n",
    "LOCATION   = \"EU\"\n",
    "DATASET    = \"covid\"\n",
    "TABLE      = \"owid\"\n",
    "\n",
    "client = bigquery.Client(project=PROJECT_ID)\n",
    "\n",
    "# 1) Ensure dataset (EU)\n",
    "ds_id = f\"{PROJECT_ID}.{DATASET}\"\n",
    "try:\n",
    "    ds = client.get_dataset(ds_id)\n",
    "    if ds.location != LOCATION:\n",
    "        raise RuntimeError(f\"Dataset exists in {ds.location}, expected {LOCATION}\")\n",
    "except Exception:\n",
    "    ds = bigquery.Dataset(ds_id)\n",
    "    ds.location = LOCATION\n",
    "    client.create_dataset(ds, exists_ok=True)\n",
    "\n",
    "# 2) Load OWID (chunked)\n",
    "url = \"https://raw.githubusercontent.com/owid/covid-19-data/master/public/data/owid-covid-data.csv\"\n",
    "usecols = [\n",
    "    \"iso_code\",\"location\",\"date\",\"population\",\n",
    "    \"total_cases\",\"new_cases\",\"total_deaths\",\"new_deaths\",\n",
    "    \"people_vaccinated\",\"people_fully_vaccinated\",\"total_boosters\"\n",
    "]\n",
    "first = True\n",
    "for chunk in pd.read_csv(url, usecols=usecols, parse_dates=[\"date\"], chunksize=200_000):\n",
    "    chunk[\"date\"] = chunk[\"date\"].dt.date\n",
    "    num = [c for c in chunk.columns if c not in (\"iso_code\",\"location\",\"date\")]\n",
    "    chunk[num] = chunk[num].apply(pd.to_numeric, errors=\"coerce\")\n",
    "    job = client.load_table_from_dataframe(\n",
    "        chunk, f\"{ds_id}.{TABLE}\",\n",
    "        job_config=bigquery.LoadJobConfig(\n",
    "            autodetect=True,\n",
    "            write_disposition=\"WRITE_TRUNCATE\" if first else \"WRITE_APPEND\"\n",
    "        )\n",
    "    )\n",
    "    job.result()\n",
    "    first = False\n",
    "\n",
    "print(\"Rows in table:\", client.get_table(f\"{ds_id}.{TABLE}\").num_rows)"
   ]
  },
  {
   "cell_type": "code",
   "execution_count": null,
   "id": "9a50b35e",
   "metadata": {},
   "outputs": [],
   "source": []
  }
 ],
 "metadata": {
  "kernelspec": {
   "display_name": "ana-ds",
   "language": "python",
   "name": "python3"
  },
  "language_info": {
   "codemirror_mode": {
    "name": "ipython",
    "version": 3
   },
   "file_extension": ".py",
   "mimetype": "text/x-python",
   "name": "python",
   "nbconvert_exporter": "python",
   "pygments_lexer": "ipython3",
   "version": "3.11.13"
  }
 },
 "nbformat": 4,
 "nbformat_minor": 5
}
