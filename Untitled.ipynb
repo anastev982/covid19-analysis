{
 "cells": [
  {
   "cell_type": "code",
   "execution_count": 1,
   "id": "ccc6b488-7e9c-4039-8906-67d10bcfcaff",
   "metadata": {},
   "outputs": [
    {
     "name": "stderr",
     "output_type": "stream",
     "text": [
      "/home/paunica/.local/lib/python3.8/site-packages/google/cloud/bigquery/_pandas_helpers.py:483: FutureWarning: Loading pandas DataFrame into BigQuery will require pandas-gbq package version 0.26.1 or greater in the future. Tried to import pandas-gbq and got: No module named 'pandas_gbq'\n",
      "  warnings.warn(\n",
      "/home/paunica/.local/lib/python3.8/site-packages/google/cloud/bigquery/_pandas_helpers.py:483: FutureWarning: Loading pandas DataFrame into BigQuery will require pandas-gbq package version 0.26.1 or greater in the future. Tried to import pandas-gbq and got: No module named 'pandas_gbq'\n",
      "  warnings.warn(\n",
      "/home/paunica/.local/lib/python3.8/site-packages/google/cloud/bigquery/_pandas_helpers.py:483: FutureWarning: Loading pandas DataFrame into BigQuery will require pandas-gbq package version 0.26.1 or greater in the future. Tried to import pandas-gbq and got: No module named 'pandas_gbq'\n",
      "  warnings.warn(\n"
     ]
    },
    {
     "name": "stdout",
     "output_type": "stream",
     "text": [
      "Loaded rows: 429435\n"
     ]
    }
   ],
   "source": [
    "from google.cloud import bigquery\n",
    "import pandas as pd\n",
    "\n",
    "url = \"https://raw.githubusercontent.com/owid/covid-19-data/master/public/data/owid-covid-data.csv\"\n",
    "usecols = [\"iso_code\",\"location\",\"date\",\"population\",\n",
    "           \"total_cases\",\"new_cases\",\"total_deaths\",\"new_deaths\",\n",
    "           \"people_vaccinated\",\"people_fully_vaccinated\",\"total_boosters\"]\n",
    "\n",
    "client = bigquery.Client()\n",
    "table_id = \"charged-city-421819.covid.owid\"\n",
    "\n",
    "for i, chunk in enumerate(pd.read_csv(url, usecols=usecols, parse_dates=[\"date\"], chunksize=200_000)):\n",
    "    job = client.load_table_from_dataframe(\n",
    "        chunk, table_id,\n",
    "        job_config=bigquery.LoadJobConfig(\n",
    "            write_disposition=\"WRITE_TRUNCATE\" if i == 0 else \"WRITE_APPEND\"\n",
    "        ),\n",
    "    )\n",
    "    job.result()\n",
    "\n",
    "print(\"Loaded rows:\", client.get_table(table_id).num_rows)\n"
   ]
  },
  {
   "cell_type": "code",
   "execution_count": 2,
   "id": "fa40aaa0-d5c5-4a16-9555-2f17a9d5a0c3",
   "metadata": {},
   "outputs": [
    {
     "data": {
      "text/html": [
       "<div>\n",
       "<style scoped>\n",
       "    .dataframe tbody tr th:only-of-type {\n",
       "        vertical-align: middle;\n",
       "    }\n",
       "\n",
       "    .dataframe tbody tr th {\n",
       "        vertical-align: top;\n",
       "    }\n",
       "\n",
       "    .dataframe thead th {\n",
       "        text-align: right;\n",
       "    }\n",
       "</style>\n",
       "<table border=\"1\" class=\"dataframe\">\n",
       "  <thead>\n",
       "    <tr style=\"text-align: right;\">\n",
       "      <th></th>\n",
       "      <th>location</th>\n",
       "      <th>d</th>\n",
       "      <th>new_cases_pm</th>\n",
       "      <th>ma7_pm</th>\n",
       "    </tr>\n",
       "  </thead>\n",
       "  <tbody>\n",
       "    <tr>\n",
       "      <th>0</th>\n",
       "      <td>Germany</td>\n",
       "      <td>2020-01-05</td>\n",
       "      <td>0.011995</td>\n",
       "      <td>0.011995</td>\n",
       "    </tr>\n",
       "    <tr>\n",
       "      <th>1</th>\n",
       "      <td>Germany</td>\n",
       "      <td>2020-01-06</td>\n",
       "      <td>0.000000</td>\n",
       "      <td>0.005997</td>\n",
       "    </tr>\n",
       "    <tr>\n",
       "      <th>2</th>\n",
       "      <td>Germany</td>\n",
       "      <td>2020-01-07</td>\n",
       "      <td>0.000000</td>\n",
       "      <td>0.003998</td>\n",
       "    </tr>\n",
       "    <tr>\n",
       "      <th>3</th>\n",
       "      <td>Germany</td>\n",
       "      <td>2020-01-08</td>\n",
       "      <td>0.000000</td>\n",
       "      <td>0.002999</td>\n",
       "    </tr>\n",
       "    <tr>\n",
       "      <th>4</th>\n",
       "      <td>Germany</td>\n",
       "      <td>2020-01-09</td>\n",
       "      <td>0.000000</td>\n",
       "      <td>0.002399</td>\n",
       "    </tr>\n",
       "  </tbody>\n",
       "</table>\n",
       "</div>"
      ],
      "text/plain": [
       "  location           d  new_cases_pm    ma7_pm\n",
       "0  Germany  2020-01-05      0.011995  0.011995\n",
       "1  Germany  2020-01-06      0.000000  0.005997\n",
       "2  Germany  2020-01-07      0.000000  0.003998\n",
       "3  Germany  2020-01-08      0.000000  0.002999\n",
       "4  Germany  2020-01-09      0.000000  0.002399"
      ]
     },
     "execution_count": 2,
     "metadata": {},
     "output_type": "execute_result"
    }
   ],
   "source": [
    "from google.cloud import bigquery\n",
    "client = bigquery.Client()\n",
    "\n",
    "QUERY = \"\"\"\n",
    "SELECT\n",
    "  location,\n",
    "  DATE(date) AS d,\n",
    "  SAFE_DIVIDE(new_cases, population/1e6) AS new_cases_pm,\n",
    "  AVG(SAFE_DIVIDE(new_cases, population/1e6)) OVER (\n",
    "    PARTITION BY location ORDER BY DATE(date)\n",
    "    ROWS BETWEEN 6 PRECEDING AND CURRENT ROW\n",
    "  ) AS ma7_pm\n",
    "FROM `charged-city-421819.covid.v_three_countries`\n",
    "WHERE date IS NOT NULL\n",
    "\"\"\"\n",
    "df = client.query(QUERY).result().to_dataframe()\n",
    "df.head()\n"
   ]
  },
  {
   "cell_type": "code",
   "execution_count": 3,
   "id": "7ea36433-9ade-4a45-bce8-d784b29db904",
   "metadata": {},
   "outputs": [
    {
     "ename": "SyntaxError",
     "evalue": "invalid syntax (3281367105.py, line 2)",
     "output_type": "error",
     "traceback": [
      "\u001b[0;36m  Cell \u001b[0;32mIn[3], line 2\u001b[0;36m\u001b[0m\n\u001b[0;31m    bq --location=EU query --use_legacy_sql=false '\u001b[0m\n\u001b[0m                     ^\u001b[0m\n\u001b[0;31mSyntaxError\u001b[0m\u001b[0;31m:\u001b[0m invalid syntax\n"
     ]
    }
   ],
   "source": [
    "# how many rows and date range\n",
    "bq --location=EU query --use_legacy_sql=false '\n",
    "  SELECT COUNT(*) rows,\n",
    "         MIN(DATE(date)) min_d,\n",
    "         MAX(DATE(date)) max_d\n",
    "  FROM `charged-city-421819.covid.owid`;'\n"
   ]
  },
  {
   "cell_type": "code",
   "execution_count": null,
   "id": "c4470a5d-e558-4856-908e-85c79963a61e",
   "metadata": {},
   "outputs": [],
   "source": []
  }
 ],
 "metadata": {
  "kernelspec": {
   "display_name": "Python (ana-ds)",
   "language": "python",
   "name": "ana-ds"
  },
  "language_info": {
   "codemirror_mode": {
    "name": "ipython",
    "version": 3
   },
   "file_extension": ".py",
   "mimetype": "text/x-python",
   "name": "python",
   "nbconvert_exporter": "python",
   "pygments_lexer": "ipython3",
   "version": "3.8.10"
  }
 },
 "nbformat": 4,
 "nbformat_minor": 5
}
